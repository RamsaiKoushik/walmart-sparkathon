{
 "cells": [
  {
   "cell_type": "code",
   "execution_count": 11,
   "metadata": {},
   "outputs": [],
   "source": [
    "import pandas as pd\n",
    "import numpy as np\n",
    "import glob\n",
    "from sklearn.metrics.pairwise import cosine_similarity\n",
    "import ast\n",
    "import re"
   ]
  },
  {
   "cell_type": "code",
   "execution_count": 12,
   "metadata": {},
   "outputs": [],
   "source": [
    "def extract_2d_array(tensor_str):\n",
    "    \n",
    "    tensor_str = tensor_str.replace('tensor(','').replace('grad_fn=<TanhBackward0>)', '').replace(' ', '').replace('\\n', '')\n",
    "    tensor_str = tensor_str[:len(tensor_str)-1]\n",
    "    numbers = eval(tensor_str)\n",
    "    \n",
    "    array = np.array(numbers).reshape((-1, 768))\n",
    "    \n",
    "    return array\n",
    "\n",
    "def extract_2d_array_list(data_str):\n",
    "\n",
    "    data_str = data_str.replace('\\n', ' ')\n",
    "\n",
    "    # Replace one or more spaces with a single comma\n",
    "    data_str = re.sub(r'\\s+', ',', data_str)\n",
    "\n",
    "    # Ensure there are no extra commas at the end\n",
    "    data_str = '[' + data_str.strip(',') + ']'\n",
    "\n",
    "    # Evaluate the string safely\n",
    "    numbers = ast.literal_eval(data_str)\n",
    "\n",
    "    array = np.array(numbers).reshape((-1, 768))  \n",
    "    return array\n"
   ]
  },
  {
   "cell_type": "code",
   "execution_count": 13,
   "metadata": {},
   "outputs": [],
   "source": [
    "def mean_of_2d_arrays(arrays):\n",
    "    stacked_arrays = np.vstack(arrays)\n",
    "    return np.mean(stacked_arrays, axis=0).reshape(-1, 768)\n",
    "\n",
    "def findMeanEmbeddings(df):\n",
    "\n",
    "    # Group by the specified column and calculate the mean of 2D arrays\n",
    "    result = df.groupby('sub_category')['embeddings'].apply(lambda x: mean_of_2d_arrays(x))\n",
    "\n",
    "    # Convert the result to a DataFrame\n",
    "    result_df = pd.DataFrame(result)\n",
    "\n",
    "    # Reset the index if necessary\n",
    "    result_df.reset_index(inplace=True)\n",
    "    return result_df"
   ]
  },
  {
   "cell_type": "code",
   "execution_count": 14,
   "metadata": {},
   "outputs": [],
   "source": [
    "def constructAverageDataframe(path):\n",
    "    files = glob.glob(path)\n",
    "    dfs = []\n",
    "    for file in files:\n",
    "        df = pd.read_csv(file)\n",
    "        df = df.drop(columns=[\"Unnamed: 0\", \"Unnamed: 0.1\", 'Unnamed: 0.2'], errors=\"ignore\")\n",
    "        dfs.append(df)\n",
    "    \n",
    "    df = pd.concat(dfs, ignore_index=True)\n",
    "    df_unique = df.drop_duplicates(subset='name', keep='first')\n",
    "\n",
    "    df_unique['embeddings'] = df_unique['embeddings'].apply(extract_2d_array)\n",
    "    print(df_unique.shape)\n",
    "\n",
    "    result_df = findMeanEmbeddings(df_unique)\n",
    "    result_df.to_csv(\"average_embeddings.csv\", index=False)"
   ]
  },
  {
   "cell_type": "code",
   "execution_count": 15,
   "metadata": {},
   "outputs": [
    {
     "name": "stderr",
     "output_type": "stream",
     "text": [
      "/tmp/ipykernel_63207/2205712202.py:12: SettingWithCopyWarning: \n",
      "A value is trying to be set on a copy of a slice from a DataFrame.\n",
      "Try using .loc[row_indexer,col_indexer] = value instead\n",
      "\n",
      "See the caveats in the documentation: https://pandas.pydata.org/pandas-docs/stable/user_guide/indexing.html#returning-a-view-versus-a-copy\n",
      "  df_unique['embeddings'] = df_unique['embeddings'].apply(extract_2d_array)\n"
     ]
    },
    {
     "name": "stdout",
     "output_type": "stream",
     "text": [
      "(59017, 3)\n"
     ]
    }
   ],
   "source": [
    "path = \"./final_csvs/*/*.csv\"\n",
    "constructAverageDataframe(path)"
   ]
  },
  {
   "cell_type": "code",
   "execution_count": 16,
   "metadata": {},
   "outputs": [],
   "source": [
    "# def rankAvgDfBySimilarity(df, user_embedding):\n",
    "\n",
    "#     df['embeddings'] = df['embeddings'].apply(lambda x: x.flatten())\n",
    "#     embeddings_matrix = np.vstack(df['embeddings'].values)\n",
    "#     print(embeddings_matrix.shape)\n",
    "\n",
    "#     df['similarities'] = cosine_similarity(embeddings_matrix, user_embedding).flatten()\n",
    "#     return df.sort_values(by='similarities', ascending=False).head(5)\n",
    "\n",
    "# def getRandomEmbeddingVector(length):\n",
    "#     vector = np.random.rand(length)\n",
    "#     vector = 2 * vector - 1\n",
    "#     return vector.reshape(1, -1)\n",
    "\n",
    "# df = pd.read_csv(\"average_embeddings.csv\")\n",
    "# df['embeddings'] = df['embeddings'].apply(extract_2d_array_list)\n",
    "\n",
    "# df = rankAvgDfBySimilarity(df,getRandomEmbeddingVector(768))\n",
    "# df"
   ]
  },
  {
   "cell_type": "code",
   "execution_count": 17,
   "metadata": {},
   "outputs": [],
   "source": [
    "# categories_list = df['sub_category']\n",
    "# print(categories_list)\n",
    "# hidden_df = pd.read_csv(\"dataset_80000.csv\")\n",
    "\n",
    "# final_df = []\n",
    "\n",
    "# for category in categories_list:\n",
    "#     print(category)\n",
    "#     df_filtered = hidden_df[hidden_df['sub_category'] == category]\n",
    "#     final_df.append(df_sampled)\n",
    "\n",
    "# recommendations = pd.concat(final_df, ignore_index=True)\n",
    "\n",
    "# print(recommendations)"
   ]
  }
 ],
 "metadata": {
  "kernelspec": {
   "display_name": "base",
   "language": "python",
   "name": "python3"
  },
  "language_info": {
   "codemirror_mode": {
    "name": "ipython",
    "version": 3
   },
   "file_extension": ".py",
   "mimetype": "text/x-python",
   "name": "python",
   "nbconvert_exporter": "python",
   "pygments_lexer": "ipython3",
   "version": "3.11.7"
  }
 },
 "nbformat": 4,
 "nbformat_minor": 2
}
