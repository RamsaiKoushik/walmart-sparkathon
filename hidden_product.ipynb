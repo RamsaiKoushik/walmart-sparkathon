{
 "cells": [
  {
   "cell_type": "code",
   "execution_count": 51,
   "metadata": {},
   "outputs": [],
   "source": [
    "import pandas as pd\n",
    "import numpy as np\n",
    "import os\n",
    "import matplotlib.pyplot as plt"
   ]
  },
  {
   "cell_type": "code",
   "execution_count": 52,
   "metadata": {},
   "outputs": [],
   "source": [
    "def extract_2d_array(tensor_str):\n",
    "    \n",
    "    tensor_str = tensor_str.replace('tensor(','').replace('grad_fn=<TanhBackward0>)', '').replace(' ', '').replace('\\n', '')\n",
    "    tensor_str = tensor_str[:len(tensor_str)-1]\n",
    "    numbers = eval(tensor_str)\n",
    "    \n",
    "    array = np.array(numbers).reshape((-1, 768))  \n",
    "    # print(array)\n",
    "    \n",
    "    return array\n",
    "\n",
    "def is_float(value):\n",
    "    try:\n",
    "        float(value)\n",
    "        return True\n",
    "    except ValueError:\n",
    "        return False\n"
   ]
  },
  {
   "cell_type": "code",
   "execution_count": 53,
   "metadata": {},
   "outputs": [],
   "source": [
    "# df = pd.read_csv(\"./dataset.csv\")\n",
    "# df = df[:80000]\n",
    "# df.to_csv(\"dataset_80000.csv\", index=False)"
   ]
  },
  {
   "cell_type": "code",
   "execution_count": 54,
   "metadata": {},
   "outputs": [
    {
     "name": "stdout",
     "output_type": "stream",
     "text": [
      "['4.3' '4.5' '4.4' '3.6' '4.1' '4.2' '3.9' '3.7' '3.8' '4.0' '3.5' '5.0'\n",
      " '4.7' '3.3' '4.8' '3.1' '3.0' '4.6' '2.9' '2.8' '3.4' '3.2' '1.3' '2.5'\n",
      " '2.2' '4.9' '2.6' '2.7' '1.0' '1.5' '2.4' '2.0' '1.8' '2.3' '1.4' '2.1'\n",
      " '1.2' '1.9' '1.6' '1.7' '1.1']\n",
      "['37' '396' '985' '94' '38' '26' '254' '205' '428' '477' '196' '295' '172'\n",
      " '872' '752' '76' '30' '73' '150' '206' '740' '374' '114' '996' '83' '75'\n",
      " '822' '377' '96' '63' '703' '93' '22' '29' '557' '27' '874' '224' '882'\n",
      " '281' '519' '723' '87' '273' '55' '215' '467' '182' '15' '218' '12' '109'\n",
      " '213' '69' '788' '394' '436' '19' '1' '4' '175' '25' '180' '188' '35'\n",
      " '323' '184' '2' '34' '495' '3' '492' '223' '77' '155' '336' '241' '126'\n",
      " '862' '412' '322' '104' '342' '134' '132' '297' '413' '478' '131' '640'\n",
      " '570' '685' '401' '5' '546' '216' '208' '260' '18' '10' '981' '49' '385'\n",
      " '11' '60' '398' '632' '473' '775' '165' '423' '623' '431' '421' '14'\n",
      " '681' '17' '41' '71' '515' '577' '633' '287' '256' '851' '177' '265'\n",
      " '516' '709' '404' '351' '128' '43' '118' '119' '836' '78' '887' '226'\n",
      " '211' '151' '54' '50' '535' '92' '590' '512' '250' '584' '564' '70' '543'\n",
      " '368' '698' '654' '422' '28' '366' '40' '796' '453' '381' '886' '105'\n",
      " '272' '987' '425' '123' '185' '603' '133' '85' '533' '538' '183' '233'\n",
      " '9' '144' '74' '212' '112' '7' '373' '304' '51' '101' '384' '79' '580'\n",
      " '251' '522' '21' '141' '346' '58' '625' '705' '8' '145' '540' '611' '470'\n",
      " '229' '98' '508' '940' '430' '166' '246' '195' '437' '576' '194' '6'\n",
      " '501' '588' '125' '350' '68' '764' '463' '697' '701' '42' '376' '124'\n",
      " '127' '179' '23' '170' '451' '598' '655' '210' '158' '61' '197' '321'\n",
      " '513' '214' '447' '483' '202' '637' '270' '113' '153' '386' '89' '53'\n",
      " '324' '922' '45' '56' '161' '207' '683' '445' '221' '142' '240' '688'\n",
      " '31' '696' '271' '663' '666' '267' '91' '20' '669' '472' '266' '57' '525'\n",
      " '236' '140' '340' '164' '159' '82' '673' '718' '199' '661' '248' '438'\n",
      " '99' '24' '95' '969' '36' '176' '615' '442' '301' '316' '234' '910' '408'\n",
      " '59' '311' '129' '457' '147' '204' '419' '178' '449' '586' '149' '291'\n",
      " '235' '173' '285' '275' '198' '434' '103' '315' '390' '249' '466' '192'\n",
      " '139' '607' '143' '239' '406' '148' '62' '756' '33' '349' '138' '509'\n",
      " '16' '111' '64' '72' '274' '277' '117' '901' '360' '950' '100' '670'\n",
      " '618' '46' '320' '32' '120' '392' '433' '162' '441' '415' '157' '121'\n",
      " '812' '66' '247' '13' '899' '47' '461' '52' '443' '479' '367' '773' '181'\n",
      " '708' '135' '488' '48' '689' '946' '589' '186' '305' '308' '730' '136'\n",
      " '106' '506' '146' '811' '312' '283' '459' '244' '115' '707' '594' '860'\n",
      " '108' '345' '631' '602' '258' '471' '330' '375' '839' '152' '81' '209'\n",
      " '809' '107' '253' '102' '529' '475' '619' '770' '313' '319' '784' '393'\n",
      " '169' '88' '116' '462' '44' '39' '816' '280' '332' '245' '480' '130'\n",
      " '325' '65' '217' '122' '749' '356' '391' '518' '160' '296' '167' '721'\n",
      " '900' '759' '781' '420' '599' '760' '677' '601' '531' '317' '935' '409'\n",
      " '960' '219' '446' '201' '464' '927' '889' '973' '837' '276' '798' '656'\n",
      " '680' '86' '802' '493' '793' '848' '722' '852' '563' '758' '930' '187'\n",
      " '804' '933' '955' '662' '807' '284' '348' '931' '561' '711' '710' '524'\n",
      " '439' '329' '866' '838' '943' '318' '203' '920' '84' '344' '154' '626'\n",
      " '505' '942' '937' '363' '934' '814' '261' '264' '435' '174' '737' '664'\n",
      " '833' '692' '585' '378' '485' '388' '962' '288' '938' '416' '609' '617'\n",
      " '553' '405' '991' '898' '986' '282' '846' '575' '876' '399' '539' '671'\n",
      " '595' '702' '743' '844' '354' '668' '733' '331' '659' '357' '294' '823'\n",
      " '225' '720' '314' '343' '855' '227' '884' '879' '706' '298' '232' '941'\n",
      " '444' '591' '684' '168' '674' '163' '383' '845' '80' '660' '745' '735'\n",
      " '424' '429' '355' '361' '643' '191' '956' '990' '878' '352' '300' '579'\n",
      " '612' '614' '627' '370' '231' '410' '649' '731' '190' '551' '700' '592'\n",
      " '465' '407' '289' '67' '532' '417' '565' '252' '891' '792' '222' '257'\n",
      " '783' '486' '968' '496' '362' '171' '843' '511' '613' '389' '498' '452'\n",
      " '268' '379' '665' '738' '372' '578' '890' '896' '568' '850' '917' '500'\n",
      " '448' '652' '885' '739' '484' '90' '641' '567' '450' '395' '397' '426'\n",
      " '327' '629' '923' '778' '644' '306' '526' '724' '455' '536' '713' '309'\n",
      " '528' '911' '359' '791' '527' '606' '474' '230' '893' '988' '555' '766'\n",
      " '299' '763' '521' '616' '497' '347' '787' '200' '541' '974' '695' '797'\n",
      " '573' '753' '292' '835' '255' '427' '870' '302' '303' '137' '562' '237'\n",
      " '957' '556' '369' '734' '97' '719' '334' '918' '456' '545' '263' '928'\n",
      " '628' '919' '687' '741' '610' '110' '729' '732' '582' '259' '228' '156'\n",
      " '307' '929' '353' '907' '818' '504' '193' '725' '638' '341' '238' '682'\n",
      " '554' '489' '774' '650' '771' '939' '566' '636' '810' '980' '694' '482'\n",
      " '279' '382' '411' '820' '510' '971' '468' '339' '371' '499' '523' '517'\n",
      " '949' '189' '440' '906' '587' '926' '403' '571' '831' '647' '469' '667'\n",
      " '333' '569' '242' '867' '597' '780' '902' '583' '880' '975' '220' '959'\n",
      " '861' '827' '326' '639' '365' '269' '604' '789' '786' '491' '549' '414'\n",
      " '794' '958' '813' '815' '755' '558' '675' '765' '278' '286' '338' '460'\n",
      " '863' '954' '648' '358' '507' '243' '868' '772' '967' '514' '894' '704'\n",
      " '828' '418' '550' '914' '768' '520' '387' '944' '712' '542' '262' '726'\n",
      " '727' '744' '857' '503' '310' '853' '608' '909' '978' '530' '290' '808'\n",
      " '402' '657' '605' '432' '912' '873' '620' '757' '552' '951' '915' '858'\n",
      " '502' '840' '293' '335' '905' '534' '856' '819' '458' '790' '859' '979'\n",
      " '801' '751' '913' '672' '776' '748' '875' '717' '634' '754' '785' '993'\n",
      " '544' '651' '728' '747' '803' '881' '646' '547' '715' '487' '904' '337'\n",
      " '679' '742' '800' '826' '494' '645' '693' '572' '961' '691' '779' '653'\n",
      " '903' '871' '380' '574' '966' '678' '948' '992' '829' '994' '560' '658'\n",
      " '537' '869' '621' '490' '593' '769' '805' '690' '736' '842' '849' '825'\n",
      " '624' '596' '686' '622' '888' '982' '998' '400' '481' '581' '642' '476'\n",
      " '746' '964' '847' '600' '548' '821' '817' '716' '630' '983' '761' '924'\n",
      " '883' '699' '932' '328' '364' '908' '963' '953' '895' '989' '714' '841'\n",
      " '767' '916' '976' '947' '952' '830' '782' '921' '635' '834' '897' '864'\n",
      " '777' '984' '559' '676' '795' '936' '892' '806' '977' '877' '454' '995'\n",
      " '865' '945' '799' '762' '854' '832' '824' '972' '997' '925' '999']\n",
      "sub_category\n",
      "Air Conditioners               3.792462\n",
      "All Exercise & Fitness         3.880786\n",
      "All Grocery & Gourmet Foods    4.156077\n",
      "Camping & Hiking               3.678136\n",
      "Cardio Equipment               3.864179\n",
      "Fashion & Silver Jewellery     3.896832\n",
      "Fashion Sandals                3.606575\n",
      "Household Supplies             3.955515\n",
      "Indoor Lighting                3.899411\n",
      "Kitchen & Dining               4.042544\n",
      "Lab & Scientific               3.846583\n",
      "Men's Fashion                  3.875634\n",
      "Sewing & Craft Supplies        4.042815\n",
      "Snack Foods                    3.947881\n",
      "Sports Shoes                   3.719904\n",
      "Strength Training              3.726233\n",
      "Toys & Games                   3.968966\n",
      "Travel Accessories             3.878391\n",
      "Travel Duffles                 3.915544\n",
      "Watches                        3.829611\n",
      "Western Wear                   3.769153\n",
      "Name: ratings, dtype: float64\n",
      "sub_category\n",
      "Air Conditioners               108.731156\n",
      "All Exercise & Fitness         141.240175\n",
      "All Grocery & Gourmet Foods    294.649171\n",
      "Camping & Hiking                50.172043\n",
      "Cardio Equipment                66.171642\n",
      "Fashion & Silver Jewellery      66.853018\n",
      "Fashion Sandals                 38.007423\n",
      "Household Supplies              87.783088\n",
      "Indoor Lighting                103.297642\n",
      "Kitchen & Dining               207.540146\n",
      "Lab & Scientific                33.802158\n",
      "Men's Fashion                  144.660058\n",
      "Sewing & Craft Supplies         82.105572\n",
      "Snack Foods                    104.208477\n",
      "Sports Shoes                    81.706966\n",
      "Strength Training               73.416366\n",
      "Toys & Games                   180.767241\n",
      "Travel Accessories              55.648265\n",
      "Travel Duffles                  78.056995\n",
      "Watches                         54.613354\n",
      "Western Wear                    71.953365\n",
      "Name: no_of_ratings, dtype: float64\n"
     ]
    }
   ],
   "source": [
    "df = pd.read_csv(\"./dataset_80000.csv\")\n",
    "\n",
    "df = df[df['ratings'].apply(is_float) & df['no_of_ratings'].apply(is_float)]\n",
    "\n",
    "print(df['ratings'].unique())\n",
    "print(df['no_of_ratings'].unique())\n",
    "df['ratings'] = df['ratings'].astype('float64')\n",
    "df['no_of_ratings'] = df['no_of_ratings'].astype('int')\n",
    "\n",
    "grouped = df.groupby(by=['sub_category'])\n",
    "ratings_mean = grouped['ratings'].mean()\n",
    "print(ratings_mean)\n",
    "number_mean = grouped['no_of_ratings'].mean()\n",
    "print(number_mean)"
   ]
  },
  {
   "cell_type": "code",
   "execution_count": 55,
   "metadata": {},
   "outputs": [
    {
     "name": "stdout",
     "output_type": "stream",
     "text": [
      "sub_category\n",
      "Air Conditioners                3.00\n",
      "All Exercise & Fitness          8.75\n",
      "All Grocery & Gourmet Foods    82.50\n",
      "Camping & Hiking                2.00\n",
      "Cardio Equipment                3.00\n",
      "Fashion & Silver Jewellery      3.00\n",
      "Fashion Sandals                 2.00\n",
      "Household Supplies              4.00\n",
      "Indoor Lighting                 6.00\n",
      "Kitchen & Dining               26.00\n",
      "Lab & Scientific                2.00\n",
      "Men's Fashion                   9.00\n",
      "Sewing & Craft Supplies         6.00\n",
      "Snack Foods                     7.00\n",
      "Sports Shoes                    4.00\n",
      "Strength Training               4.00\n",
      "Toys & Games                   15.00\n",
      "Travel Accessories              3.00\n",
      "Travel Duffles                  3.00\n",
      "Watches                         2.00\n",
      "Western Wear                    4.00\n",
      "Name: no_of_ratings, dtype: float64\n"
     ]
    }
   ],
   "source": [
    "# Group by 'sub_category' and calculate the 1/4th quartile for 'no_of_ratings'\n",
    "quartile_1_no = grouped['no_of_ratings'].quantile(0.25)\n",
    "# Print the 1/4th quartile values\n",
    "print(quartile_1_no)"
   ]
  },
  {
   "cell_type": "code",
   "execution_count": 56,
   "metadata": {},
   "outputs": [
    {
     "name": "stdout",
     "output_type": "stream",
     "text": [
      "sub_category\n",
      "Air Conditioners               4.2\n",
      "All Exercise & Fitness         4.2\n",
      "All Grocery & Gourmet Foods    4.3\n",
      "Camping & Hiking               4.5\n",
      "Cardio Equipment               4.3\n",
      "Fashion & Silver Jewellery     4.3\n",
      "Fashion Sandals                4.1\n",
      "Household Supplies             4.5\n",
      "Indoor Lighting                4.3\n",
      "Kitchen & Dining               4.3\n",
      "Lab & Scientific               4.6\n",
      "Men's Fashion                  4.2\n",
      "Sewing & Craft Supplies        4.4\n",
      "Snack Foods                    4.3\n",
      "Sports Shoes                   4.1\n",
      "Strength Training              4.2\n",
      "Toys & Games                   4.3\n",
      "Travel Accessories             4.4\n",
      "Travel Duffles                 4.5\n",
      "Watches                        4.4\n",
      "Western Wear                   4.1\n",
      "Name: ratings, dtype: float64\n"
     ]
    }
   ],
   "source": [
    "# Group by 'sub_category' and calculate the 1/4th quartile for 'no_of_ratings'\n",
    "quartile_1_rating = grouped['ratings'].quantile(0.75)\n",
    "# Print the 1/4th quartile values\n",
    "print(quartile_1_rating)"
   ]
  },
  {
   "cell_type": "code",
   "execution_count": 59,
   "metadata": {},
   "outputs": [],
   "source": [
    "# # Create scatter plots for each sub_category\n",
    "# for sub_category, group in grouped:\n",
    "#     plt.figure(figsize=(8, 6))\n",
    "#     plt.scatter(group['no_of_ratings'], group['ratings'], alpha=0.6)\n",
    "#     plt.title(f'Scatter Plot for {sub_category}')\n",
    "#     plt.xlabel('Number of Ratings')\n",
    "#     plt.ylabel('Ratings')\n",
    "#     plt.grid(True)\n",
    "#     plt.show()"
   ]
  },
  {
   "cell_type": "code",
   "execution_count": 58,
   "metadata": {},
   "outputs": [
    {
     "name": "stdout",
     "output_type": "stream",
     "text": [
      "(7690, 10)\n"
     ]
    }
   ],
   "source": [
    "def apply_thresholds(row):\n",
    "    category = row['sub_category']\n",
    "    return (row['no_of_ratings'] < quartile_1_no[category]) and (row['ratings'] > quartile_1_rating[category])\n",
    "\n",
    "df_filtered = df[df.apply(apply_thresholds, axis=1)]\n",
    "print(df_filtered.shape)"
   ]
  },
  {
   "cell_type": "code",
   "execution_count": 60,
   "metadata": {},
   "outputs": [],
   "source": [
    "df_filtered.to_csv(\"Hidden products.csv\", index=False)"
   ]
  }
 ],
 "metadata": {
  "kernelspec": {
   "display_name": "base",
   "language": "python",
   "name": "python3"
  },
  "language_info": {
   "codemirror_mode": {
    "name": "ipython",
    "version": 3
   },
   "file_extension": ".py",
   "mimetype": "text/x-python",
   "name": "python",
   "nbconvert_exporter": "python",
   "pygments_lexer": "ipython3",
   "version": "3.11.7"
  }
 },
 "nbformat": 4,
 "nbformat_minor": 2
}
