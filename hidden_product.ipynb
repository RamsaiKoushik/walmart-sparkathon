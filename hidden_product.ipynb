{
 "cells": [
  {
   "cell_type": "code",
   "execution_count": 25,
   "metadata": {},
   "outputs": [],
   "source": [
    "import pandas as pd\n",
    "import numpy as np\n",
    "import glob\n",
    "import matplotlib.pyplot as plt"
   ]
  },
  {
   "cell_type": "code",
   "execution_count": 26,
   "metadata": {},
   "outputs": [],
   "source": [
    "def extract_2d_array(tensor_str):\n",
    "    \n",
    "    tensor_str = tensor_str.replace('tensor(','').replace('grad_fn=<TanhBackward0>)', '').replace(' ', '').replace('\\n', '')\n",
    "    tensor_str = tensor_str[:len(tensor_str)-1]\n",
    "    numbers = eval(tensor_str)\n",
    "    \n",
    "    array = np.array(numbers).reshape((-1, 768))  \n",
    "    # print(array)\n",
    "    \n",
    "    return array\n",
    "\n",
    "def is_float(value):\n",
    "    try:\n",
    "        float(value)\n",
    "        return True\n",
    "    except ValueError:\n",
    "        return False\n"
   ]
  },
  {
   "cell_type": "code",
   "execution_count": 27,
   "metadata": {},
   "outputs": [],
   "source": [
    "def constructFinalDataframe(path, bigger_path):\n",
    "\n",
    "    files = glob.glob(path)\n",
    "    dfs = []\n",
    "    for file in files:\n",
    "        df = pd.read_csv(file)\n",
    "        df = df.drop(columns=[\"Unnamed: 0\", \"Unnamed: 0.1\", 'Unnamed: 0.2'], errors=\"ignore\")\n",
    "        dfs.append(df)\n",
    "    \n",
    "    df = pd.concat(dfs, ignore_index=True)\n",
    "    df_big = pd.read_csv(bigger_path)\n",
    "    \n",
    "    combinations = set(df[['name', 'sub_category']].apply(tuple, axis=1))\n",
    "\n",
    "    # Filter rows in the larger DataFrame that match the combinations in the smaller DataFrame\n",
    "    filtered_df = df_big[df_big.apply(lambda row: (row['name'], row['sub_category']) in combinations, axis=1)]\n",
    "    df_unique = filtered_df.drop_duplicates(subset='name', keep='first')\n",
    "\n",
    "    print(df_unique.shape)\n",
    "    df_unique.to_csv(\"dataset_truncated.csv\", index=False)"
   ]
  },
  {
   "cell_type": "code",
   "execution_count": 28,
   "metadata": {},
   "outputs": [
    {
     "name": "stdout",
     "output_type": "stream",
     "text": [
      "(59017, 10)\n"
     ]
    }
   ],
   "source": [
    "constructFinalDataframe(\"./final_csvs/*/*.csv\", \"dataset.csv\")"
   ]
  },
  {
   "cell_type": "code",
   "execution_count": 29,
   "metadata": {},
   "outputs": [
    {
     "name": "stdout",
     "output_type": "stream",
     "text": [
      "sub_category\n",
      "Air Conditioners                            3.787563\n",
      "All Appliances                              3.896424\n",
      "All Car & Motorbike Products                3.830093\n",
      "All Electronics                             4.015099\n",
      "All Exercise & Fitness                      3.878122\n",
      "All Grocery & Gourmet Foods                 4.155153\n",
      "All Home & Kitchen                          4.045725\n",
      "All Pet Supplies                            3.999612\n",
      "All Sports, Fitness & Outdoors              3.865906\n",
      "Amazon Fashion                              3.977739\n",
      "Household Supplies                          3.952387\n",
      "Indoor Lighting                             3.894112\n",
      "Innerwear                                   3.657096\n",
      "Kids' Watches                               3.536500\n",
      "Lab & Scientific                            3.849910\n",
      "Lingerie & Nightwear                        3.752994\n",
      "Musical Instruments & Professional Audio    3.918438\n",
      "Shirts                                      3.789948\n",
      "Snack Foods                                 3.941568\n",
      "Sports Shoes                                3.721899\n",
      "Strength Training                           3.721805\n",
      "Sunglasses                                  3.959091\n",
      "Toys & Games                                3.965436\n",
      "Watches                                     3.722425\n",
      "Name: ratings, dtype: float64\n",
      "sub_category\n",
      "Air Conditioners                            107.500000\n",
      "All Appliances                              174.361293\n",
      "All Car & Motorbike Products                143.113084\n",
      "All Electronics                             305.253739\n",
      "All Exercise & Fitness                      141.260773\n",
      "All Grocery & Gourmet Foods                 294.831476\n",
      "All Home & Kitchen                          291.633829\n",
      "All Pet Supplies                            138.025243\n",
      "All Sports, Fitness & Outdoors              160.595438\n",
      "Amazon Fashion                              265.802416\n",
      "Household Supplies                           88.609296\n",
      "Indoor Lighting                             104.338843\n",
      "Innerwear                                    14.850165\n",
      "Kids' Watches                                25.550000\n",
      "Lab & Scientific                             33.969259\n",
      "Lingerie & Nightwear                         74.727441\n",
      "Musical Instruments & Professional Audio     76.248399\n",
      "Shirts                                       81.175043\n",
      "Snack Foods                                 100.275534\n",
      "Sports Shoes                                 80.519587\n",
      "Strength Training                            69.109023\n",
      "Sunglasses                                   61.762238\n",
      "Toys & Games                                178.945347\n",
      "Watches                                      25.619669\n",
      "Name: no_of_ratings, dtype: float64\n"
     ]
    }
   ],
   "source": [
    "df = pd.read_csv(\"./dataset_truncated.csv\")\n",
    "\n",
    "df = df[df['ratings'].apply(is_float) & df['no_of_ratings'].apply(is_float)]\n",
    "\n",
    "df['ratings'] = df['ratings'].astype('float64')\n",
    "df['no_of_ratings'] = df['no_of_ratings'].astype('int')\n",
    "\n",
    "grouped = df.groupby(by=['sub_category'])\n",
    "ratings_mean = grouped['ratings'].mean()\n",
    "print(ratings_mean)\n",
    "number_mean = grouped['no_of_ratings'].mean()\n",
    "print(number_mean)"
   ]
  },
  {
   "cell_type": "code",
   "execution_count": 30,
   "metadata": {},
   "outputs": [
    {
     "name": "stdout",
     "output_type": "stream",
     "text": [
      "sub_category\n",
      "Air Conditioners                             3.0\n",
      "All Appliances                              15.0\n",
      "All Car & Motorbike Products                12.0\n",
      "All Electronics                             64.0\n",
      "All Exercise & Fitness                       9.0\n",
      "All Grocery & Gourmet Foods                 81.5\n",
      "All Home & Kitchen                          48.0\n",
      "All Pet Supplies                            12.0\n",
      "All Sports, Fitness & Outdoors              18.0\n",
      "Amazon Fashion                              39.0\n",
      "Household Supplies                           4.0\n",
      "Indoor Lighting                              6.0\n",
      "Innerwear                                    1.0\n",
      "Kids' Watches                                1.0\n",
      "Lab & Scientific                             2.0\n",
      "Lingerie & Nightwear                         4.0\n",
      "Musical Instruments & Professional Audio     3.0\n",
      "Shirts                                       3.0\n",
      "Snack Foods                                  7.0\n",
      "Sports Shoes                                 4.0\n",
      "Strength Training                            4.0\n",
      "Sunglasses                                   2.0\n",
      "Toys & Games                                15.0\n",
      "Watches                                      1.0\n",
      "Name: no_of_ratings, dtype: float64\n"
     ]
    }
   ],
   "source": [
    "# Group by 'sub_category' and calculate the 1/4th quartile for 'no_of_ratings'\n",
    "quartile_1_no = grouped['no_of_ratings'].quantile(0.25)\n",
    "# Print the 1/4th quartile values\n",
    "print(quartile_1_no)"
   ]
  },
  {
   "cell_type": "code",
   "execution_count": 31,
   "metadata": {},
   "outputs": [
    {
     "name": "stdout",
     "output_type": "stream",
     "text": [
      "sub_category\n",
      "Air Conditioners                            4.20\n",
      "All Appliances                              4.20\n",
      "All Car & Motorbike Products                4.20\n",
      "All Electronics                             4.30\n",
      "All Exercise & Fitness                      4.20\n",
      "All Grocery & Gourmet Foods                 4.30\n",
      "All Home & Kitchen                          4.30\n",
      "All Pet Supplies                            4.35\n",
      "All Sports, Fitness & Outdoors              4.10\n",
      "Amazon Fashion                              4.20\n",
      "Household Supplies                          4.50\n",
      "Indoor Lighting                             4.30\n",
      "Innerwear                                   4.50\n",
      "Kids' Watches                               4.10\n",
      "Lab & Scientific                            4.60\n",
      "Lingerie & Nightwear                        4.10\n",
      "Musical Instruments & Professional Audio    4.50\n",
      "Shirts                                      4.10\n",
      "Snack Foods                                 4.30\n",
      "Sports Shoes                                4.10\n",
      "Strength Training                           4.20\n",
      "Sunglasses                                  4.60\n",
      "Toys & Games                                4.30\n",
      "Watches                                     4.50\n",
      "Name: ratings, dtype: float64\n"
     ]
    }
   ],
   "source": [
    "# Group by 'sub_category' and calculate the 1/4th quartile for 'no_of_ratings'\n",
    "quartile_1_rating = grouped['ratings'].quantile(0.75)\n",
    "# Print the 1/4th quartile values\n",
    "print(quartile_1_rating)"
   ]
  },
  {
   "cell_type": "code",
   "execution_count": 32,
   "metadata": {},
   "outputs": [],
   "source": [
    "# # Create scatter plots for each sub_category\n",
    "# for sub_category, group in grouped:\n",
    "#     plt.figure(figsize=(8, 6))\n",
    "#     plt.scatter(group['no_of_ratings'], group['ratings'], alpha=0.6)\n",
    "#     plt.title(f'Scatter Plot for {sub_category}')\n",
    "#     plt.xlabel('Number of Ratings')\n",
    "#     plt.ylabel('Ratings')\n",
    "#     plt.grid(True)\n",
    "#     plt.show()"
   ]
  },
  {
   "cell_type": "code",
   "execution_count": 33,
   "metadata": {},
   "outputs": [
    {
     "name": "stdout",
     "output_type": "stream",
     "text": [
      "(4174, 10)\n"
     ]
    }
   ],
   "source": [
    "def apply_thresholds(row):\n",
    "    category = row['sub_category']\n",
    "    return (row['no_of_ratings'] < quartile_1_no[category]) and (row['ratings'] > quartile_1_rating[category])\n",
    "\n",
    "df_filtered = df[df.apply(apply_thresholds, axis=1)]\n",
    "print(df_filtered.shape)"
   ]
  },
  {
   "cell_type": "code",
   "execution_count": 34,
   "metadata": {},
   "outputs": [],
   "source": [
    "df_filtered.drop(columns=['Unnamed: 0']).to_csv(\"Hidden products.csv\", index=False)"
   ]
  }
 ],
 "metadata": {
  "kernelspec": {
   "display_name": "base",
   "language": "python",
   "name": "python3"
  },
  "language_info": {
   "codemirror_mode": {
    "name": "ipython",
    "version": 3
   },
   "file_extension": ".py",
   "mimetype": "text/x-python",
   "name": "python",
   "nbconvert_exporter": "python",
   "pygments_lexer": "ipython3",
   "version": "3.11.7"
  }
 },
 "nbformat": 4,
 "nbformat_minor": 2
}
