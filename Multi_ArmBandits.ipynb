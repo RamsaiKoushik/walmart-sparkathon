{
 "cells": [
  {
   "cell_type": "code",
   "execution_count": 1,
   "metadata": {},
   "outputs": [],
   "source": [
    "import numpy as np\n",
    "import random"
   ]
  },
  {
   "cell_type": "code",
   "execution_count": null,
   "metadata": {},
   "outputs": [],
   "source": [
    "\n",
    "class MultiArmedBandit:\n",
    "    def __init__(self, categories):\n",
    "        # Initialize the categories, success, and failure counts for each category\n",
    "        self.categories = categories\n",
    "        self.successes = {category: 0 for category in categories}  # Number of rewards\n",
    "        self.failures = {category: 0 for category in categories}   # Number of non-rewards\n",
    "\n",
    "    def select_category(self):\n",
    "        best_category = None\n",
    "        max_sampled_value = float('-inf')  # Start with the smallest possible number\n",
    "\n",
    "        for category in self.categories:\n",
    "            # Sample from the Beta distribution for this category\n",
    "            sampled_value = np.random.beta(self.successes[category] + 1, self.failures[category] + 1)\n",
    "            \n",
    "            # Check if the sampled value is the highest we've seen\n",
    "            if sampled_value > max_sampled_value:\n",
    "                max_sampled_value = sampled_value\n",
    "                best_category = category\n",
    "\n",
    "        return best_category\n",
    "\n",
    "    def update_values(self, category, reward):\n",
    "        # Update the success or failure count based on the reward\n",
    "        if reward > 0:\n",
    "            self.successes[category] += reward\n",
    "        else:\n",
    "            self.failures[category] += 1-reward\n",
    "\n",
    "    def display_products(self, category):\n",
    "        # Dummy function to simulate displaying products from a category\n",
    "        print(f\"Displaying products from the highest category: {category}\")\n",
    "\n",
    "# Initialize categories\n",
    "\n"
   ]
  },
  {
   "cell_type": "code",
   "execution_count": null,
   "metadata": {},
   "outputs": [],
   "source": [
    "categories = [\"Electronics\", \"Clothing\", \"Books\", \"Home Decor\"]\n",
    "\n",
    "# Instantiate the MultiArmedBandit\n",
    "bandit = MultiArmedBandit(categories)\n",
    "\n",
    "# Simulate the process\n",
    "for _ in range(10):  # Simulate 10 rounds\n",
    "    # Select the best category based on current values\n",
    "    selected_category = bandit.select_category()\n",
    "    \n",
    "    # Simulate a random reward (e.g., from 0 to 1) for the selected category\n",
    "    reward = random.uniform(0, 1)\n",
    "    \n",
    "    # Update the values based on the received reward\n",
    "    bandit.update_values(selected_category, reward)\n",
    "    \n",
    "    # Display products from the highest category\n",
    "    bandit.display_products(selected_category)\n",
    "    \n",
    "    # Print current estimated values for reference\n",
    "    print(f\"Current Values: {bandit.values}\\n\")"
   ]
  }
 ],
 "metadata": {
  "kernelspec": {
   "display_name": "recsys",
   "language": "python",
   "name": "python3"
  },
  "language_info": {
   "codemirror_mode": {
    "name": "ipython",
    "version": 3
   },
   "file_extension": ".py",
   "mimetype": "text/x-python",
   "name": "python",
   "nbconvert_exporter": "python",
   "pygments_lexer": "ipython3",
   "version": "3.12.2"
  }
 },
 "nbformat": 4,
 "nbformat_minor": 2
}
